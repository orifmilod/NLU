{
 "cells": [
  {
   "cell_type": "markdown",
   "metadata": {},
   "source": [
    "# <a name=\"0\">Machine Learning Accelerator - Natural Language Processing - Lecture 2</a>\n",
    "\n",
    "## Linear Regression Models and Regularization\n",
    "\n",
    "In this notebook, we go over Linear Regression methods (with and without regularization: LinearRegression, Ridge, Lasso, ElasticNet) to predict the __log_votes__ field of our review dataset. \n",
    "\n",
    "1. <a href=\"#1\">Reading the dataset</a>\n",
    "2. <a href=\"#2\">Exploratory data analysis</a>\n",
    "3. <a href=\"#3\">Stop word removal and stemming</a>\n",
    "4. <a href=\"#4\">Train - Validation Split</a>\n",
    "5. <a href=\"#5\">Data processing with Pipeline and ColumnTransform</a>\n",
    "6. <a href=\"#6\">Train the regressor</a>\n",
    "7. <a href=\"#7\">Fitting Linear Regression models and checking the validation performance</a> Find more details on the classical Linear Regression models with and without regularization here: https://scikit-learn.org/stable/modules/classes.html#module-sklearn.linear_model\n",
    "8. <a href=\"#8\">Ideas for improvement</a>\n",
    "\n",
    "Overall dataset schema:\n",
    "* __reviewText:__ Text of the review\n",
    "* __summary:__ Summary of the review\n",
    "* __verified:__ Whether the purchase was verified (True or False)\n",
    "* __time:__ UNIX timestamp for the review\n",
    "* __rating:__ Rating of the review\n",
    "* __log_votes:__ Logarithm-adjusted votes log(1+votes)\n"
   ]
  },
  {
   "cell_type": "code",
   "execution_count": 1,
   "metadata": {},
   "outputs": [
    {
     "name": "stdout",
     "output_type": "stream",
     "text": [
      "Requirement already up-to-date: pip in /home/ec2-user/anaconda3/envs/python3/lib/python3.6/site-packages (20.2.4)\n",
      "Requirement already up-to-date: scikit-learn in /home/ec2-user/anaconda3/envs/python3/lib/python3.6/site-packages (0.23.2)\n",
      "Requirement already satisfied, skipping upgrade: threadpoolctl>=2.0.0 in /home/ec2-user/anaconda3/envs/python3/lib/python3.6/site-packages (from scikit-learn) (2.1.0)\n",
      "Requirement already satisfied, skipping upgrade: joblib>=0.11 in /home/ec2-user/anaconda3/envs/python3/lib/python3.6/site-packages (from scikit-learn) (0.14.1)\n",
      "Requirement already satisfied, skipping upgrade: scipy>=0.19.1 in /home/ec2-user/anaconda3/envs/python3/lib/python3.6/site-packages (from scikit-learn) (1.4.1)\n",
      "Requirement already satisfied, skipping upgrade: numpy>=1.13.3 in /home/ec2-user/anaconda3/envs/python3/lib/python3.6/site-packages (from scikit-learn) (1.18.1)\n"
     ]
    }
   ],
   "source": [
    "#Upgrade dependencies\n",
    "!pip install --upgrade pip\n",
    "!pip install --upgrade scikit-learn"
   ]
  },
  {
   "cell_type": "markdown",
   "metadata": {},
   "source": [
    "## 1. <a name=\"1\">Reading the dataset</a>\n",
    "(<a href=\"#0\">Go to top</a>)\n",
    "\n",
    "We will use the __pandas__ library to read our dataset."
   ]
  },
  {
   "cell_type": "code",
   "execution_count": 21,
   "metadata": {},
   "outputs": [
    {
     "name": "stdout",
     "output_type": "stream",
     "text": [
      "Successfully created the directory <module 'posixpath' from '/home/ec2-user/anaconda3/envs/python3/lib/python3.6/posixpath.py'> \n"
     ]
    }
   ],
   "source": [
    "# import the datasets\n",
    "import boto3\n",
    "import os\n",
    "from os import path\n",
    "import pandas as pd\n",
    "\n",
    "bucketname = 'mlu-courses-datalake' # replace with your bucket name\n",
    "filename = 'MLA-NLP/data/examples/NLP-REVIEW-DATA-REGRESSION.csv' # replace with your object key\n",
    "pathname = '../../data/examples'\n",
    "s3 = boto3.resource('s3')\n",
    "if not path.exists(\"../../data/examples\"):\n",
    "    try:\n",
    "        os.makedirs(pathname)\n",
    "    except OSError:\n",
    "        print (\"Creation of the directory %s failed\" % path)\n",
    "\n",
    "s3.Bucket(bucketname).download_file(filename, '../../data/examples/NLP-REVIEW-DATA-REGRESSION.csv')\n",
    "print (\"Successfully created the directory %s \" % path)"
   ]
  },
  {
   "cell_type": "code",
   "execution_count": 22,
   "metadata": {},
   "outputs": [
    {
     "data": {
      "text/html": [
       "<div>\n",
       "<style scoped>\n",
       "    .dataframe tbody tr th:only-of-type {\n",
       "        vertical-align: middle;\n",
       "    }\n",
       "\n",
       "    .dataframe tbody tr th {\n",
       "        vertical-align: top;\n",
       "    }\n",
       "\n",
       "    .dataframe thead th {\n",
       "        text-align: right;\n",
       "    }\n",
       "</style>\n",
       "<table border=\"1\" class=\"dataframe\">\n",
       "  <thead>\n",
       "    <tr style=\"text-align: right;\">\n",
       "      <th></th>\n",
       "      <th>reviewText</th>\n",
       "      <th>summary</th>\n",
       "      <th>verified</th>\n",
       "      <th>time</th>\n",
       "      <th>rating</th>\n",
       "      <th>log_votes</th>\n",
       "    </tr>\n",
       "  </thead>\n",
       "  <tbody>\n",
       "    <tr>\n",
       "      <th>0</th>\n",
       "      <td>Stuck with this at work, slow and we still got...</td>\n",
       "      <td>Use SEP or Mcafee</td>\n",
       "      <td>False</td>\n",
       "      <td>1464739200</td>\n",
       "      <td>1.0</td>\n",
       "      <td>0.0</td>\n",
       "    </tr>\n",
       "    <tr>\n",
       "      <th>1</th>\n",
       "      <td>I use parallels every day with both my persona...</td>\n",
       "      <td>Use it daily</td>\n",
       "      <td>False</td>\n",
       "      <td>1332892800</td>\n",
       "      <td>5.0</td>\n",
       "      <td>0.0</td>\n",
       "    </tr>\n",
       "    <tr>\n",
       "      <th>2</th>\n",
       "      <td>Barbara Robbins\\n\\nI've used TurboTax to do ou...</td>\n",
       "      <td>Helpful Product</td>\n",
       "      <td>True</td>\n",
       "      <td>1398816000</td>\n",
       "      <td>4.0</td>\n",
       "      <td>0.0</td>\n",
       "    </tr>\n",
       "    <tr>\n",
       "      <th>3</th>\n",
       "      <td>I have been using this software security for y...</td>\n",
       "      <td>Five Stars</td>\n",
       "      <td>True</td>\n",
       "      <td>1430784000</td>\n",
       "      <td>5.0</td>\n",
       "      <td>0.0</td>\n",
       "    </tr>\n",
       "    <tr>\n",
       "      <th>4</th>\n",
       "      <td>If you want your computer hijacked and slowed ...</td>\n",
       "      <td>... hijacked and slowed to a crawl Windows 10 ...</td>\n",
       "      <td>False</td>\n",
       "      <td>1508025600</td>\n",
       "      <td>1.0</td>\n",
       "      <td>0.0</td>\n",
       "    </tr>\n",
       "  </tbody>\n",
       "</table>\n",
       "</div>"
      ],
      "text/plain": [
       "                                          reviewText  \\\n",
       "0  Stuck with this at work, slow and we still got...   \n",
       "1  I use parallels every day with both my persona...   \n",
       "2  Barbara Robbins\\n\\nI've used TurboTax to do ou...   \n",
       "3  I have been using this software security for y...   \n",
       "4  If you want your computer hijacked and slowed ...   \n",
       "\n",
       "                                             summary  verified        time  \\\n",
       "0                                  Use SEP or Mcafee     False  1464739200   \n",
       "1                                       Use it daily     False  1332892800   \n",
       "2                                    Helpful Product      True  1398816000   \n",
       "3                                         Five Stars      True  1430784000   \n",
       "4  ... hijacked and slowed to a crawl Windows 10 ...     False  1508025600   \n",
       "\n",
       "   rating  log_votes  \n",
       "0     1.0        0.0  \n",
       "1     5.0        0.0  \n",
       "2     4.0        0.0  \n",
       "3     5.0        0.0  \n",
       "4     1.0        0.0  "
      ]
     },
     "execution_count": 22,
     "metadata": {},
     "output_type": "execute_result"
    }
   ],
   "source": [
    "import pandas as pd\n",
    "\n",
    "df = pd.read_csv('../../data/examples/NLP-REVIEW-DATA-REGRESSION.csv')\n",
    "df.head()"
   ]
  },
  {
   "cell_type": "markdown",
   "metadata": {},
   "source": [
    "Let's look at the first five rows in the dataset. As you can see the __log_votes__ field is numeric. That's why we will build a regression model."
   ]
  },
  {
   "cell_type": "markdown",
   "metadata": {},
   "source": [
    "## 2. <a name=\"2\">Exploratory data analysis</a>\n",
    "(<a href=\"#0\">Go to top</a>)"
   ]
  },
  {
   "cell_type": "markdown",
   "metadata": {},
   "source": [
    "Let's look at the range and distribution of log_votes"
   ]
  },
  {
   "cell_type": "code",
   "execution_count": 5,
   "metadata": {},
   "outputs": [
    {
     "data": {
      "text/plain": [
       "0.0"
      ]
     },
     "execution_count": 5,
     "metadata": {},
     "output_type": "execute_result"
    }
   ],
   "source": [
    "df[\"log_votes\"].min()"
   ]
  },
  {
   "cell_type": "code",
   "execution_count": 6,
   "metadata": {},
   "outputs": [
    {
     "data": {
      "text/plain": [
       "7.799753318287247"
      ]
     },
     "execution_count": 6,
     "metadata": {},
     "output_type": "execute_result"
    }
   ],
   "source": [
    "df[\"log_votes\"].max()"
   ]
  },
  {
   "cell_type": "code",
   "execution_count": 7,
   "metadata": {},
   "outputs": [
    {
     "data": {
      "image/png": "[encoded data removed]",
      "text/plain": [
       "<Figure size 432x288 with 1 Axes>"
      ]
     },
     "metadata": {
      "needs_background": "light"
     },
     "output_type": "display_data"
    }
   ],
   "source": [
    "%matplotlib inline\n",
    "import matplotlib.pyplot as plt\n",
    "\n",
    "df[\"log_votes\"].plot.hist()\n",
    "plt.show()"
   ]
  },
  {
   "cell_type": "markdown",
   "metadata": {},
   "source": [
    "We can check the number of missing values for each columm below."
   ]
  },
  {
   "cell_type": "code",
   "execution_count": 8,
   "metadata": {},
   "outputs": [
    {
     "name": "stdout",
     "output_type": "stream",
     "text": [
      "reviewText    6\n",
      "summary       7\n",
      "verified      0\n",
      "time          0\n",
      "rating        0\n",
      "log_votes     0\n",
      "dtype: int64\n"
     ]
    }
   ],
   "source": [
    "print(df.isna().sum())"
   ]
  },
  {
   "cell_type": "markdown",
   "metadata": {},
   "source": [
    "## 3. <a name=\"3\">Text Processing: Stop words removal and stemming</a>\n",
    "(<a href=\"#0\">Go to top</a>)"
   ]
  },
  {
   "cell_type": "code",
   "execution_count": 9,
   "metadata": {},
   "outputs": [
    {
     "name": "stderr",
     "output_type": "stream",
     "text": [
      "[nltk_data] Downloading package punkt to /home/ec2-user/nltk_data...\n",
      "[nltk_data]   Package punkt is already up-to-date!\n",
      "[nltk_data] Downloading package stopwords to\n",
      "[nltk_data]     /home/ec2-user/nltk_data...\n",
      "[nltk_data]   Package stopwords is already up-to-date!\n"
     ]
    },
    {
     "data": {
      "text/plain": [
       "True"
      ]
     },
     "execution_count": 9,
     "metadata": {},
     "output_type": "execute_result"
    }
   ],
   "source": [
    "# Install the library and functions\n",
    "import nltk\n",
    "\n",
    "nltk.download('punkt')\n",
    "nltk.download('stopwords')"
   ]
  },
  {
   "cell_type": "markdown",
   "metadata": {},
   "source": [
    "We will create the stop word removal and text cleaning processes below. NLTK library provides a list of common stop words. We will use the list, but remove some of the words from that list (because those words are actually useful to understand the sentiment in the sentence)."
   ]
  },
  {
   "cell_type": "code",
   "execution_count": 10,
   "metadata": {},
   "outputs": [],
   "source": [
    "import nltk, re\n",
    "from nltk.corpus import stopwords\n",
    "from nltk.stem import SnowballStemmer\n",
    "from nltk.tokenize import word_tokenize\n",
    "\n",
    "# Let's get a list of stop words from the NLTK library\n",
    "stop = stopwords.words('english')\n",
    "\n",
    "# These words are important for our problem. We don't want to remove them.\n",
    "excluding = ['against', 'not', 'don', \"don't\",'ain', 'aren', \"aren't\", 'couldn', \"couldn't\",\n",
    "             'didn', \"didn't\", 'doesn', \"doesn't\", 'hadn', \"hadn't\", 'hasn', \"hasn't\", \n",
    "             'haven', \"haven't\", 'isn', \"isn't\", 'mightn', \"mightn't\", 'mustn', \"mustn't\",\n",
    "             'needn', \"needn't\",'shouldn', \"shouldn't\", 'wasn', \"wasn't\", 'weren', \n",
    "             \"weren't\", 'won', \"won't\", 'wouldn', \"wouldn't\"]\n",
    "\n",
    "# New stop word list\n",
    "stop_words = [word for word in stop if word not in excluding]\n",
    "\n",
    "snow = SnowballStemmer('english')\n",
    "\n",
    "def process_text(texts): \n",
    "    final_text_list=[]\n",
    "    for sent in texts:\n",
    "        \n",
    "        # Check if the sentence is a missing value\n",
    "        if isinstance(sent, str) == False:\n",
    "            sent = \"\"\n",
    "            \n",
    "        filtered_sentence=[]\n",
    "        \n",
    "        sent = sent.lower() # Lowercase \n",
    "        sent = sent.strip() # Remove leading/trailing whitespace\n",
    "        sent = re.sub('\\s+', ' ', sent) # Remove extra space and tabs\n",
    "        sent = re.compile('<.*?>').sub('', sent) # Remove HTML tags/markups:\n",
    "        \n",
    "        for w in word_tokenize(sent):\n",
    "            # We are applying some custom filtering here, feel free to try different things\n",
    "            # Check if it is not numeric and its length>2 and not in stop words\n",
    "            if(not w.isnumeric()) and (len(w)>2) and (w not in stop_words):  \n",
    "                # Stem and add to filtered list\n",
    "                filtered_sentence.append(snow.stem(w))\n",
    "        final_string = \" \".join(filtered_sentence) #final string of cleaned words\n",
    " \n",
    "        final_text_list.append(final_string)\n",
    "        \n",
    "    return final_text_list"
   ]
  },
  {
   "cell_type": "markdown",
   "metadata": {},
   "source": [
    "## 4. <a name=\"4\">Train - Validation Split</a>\n",
    "(<a href=\"#0\">Go to top</a>)\n",
    "\n",
    "Let's split our dataset into training (90%) and validation (10%). We will use \"reviewText\", \"summary\", \"time\", \"rating\" fields and predict the \"log_votes\" field."
   ]
  },
  {
   "cell_type": "code",
   "execution_count": 11,
   "metadata": {},
   "outputs": [],
   "source": [
    "from sklearn.model_selection import train_test_split\n",
    "\n",
    "\n",
    "X_train, X_val, y_train, y_val = train_test_split(df[[\"reviewText\", \"summary\", \"time\", \"rating\"]],\n",
    "                                                  df[\"log_votes\"],\n",
    "                                                  test_size=0.10,\n",
    "                                                  shuffle=True,\n",
    "                                                  random_state=324\n",
    "                                                 )"
   ]
  },
  {
   "cell_type": "code",
   "execution_count": 12,
   "metadata": {},
   "outputs": [
    {
     "name": "stdout",
     "output_type": "stream",
     "text": [
      "Processing the reviewText fields\n",
      "Processing the summary fields\n"
     ]
    }
   ],
   "source": [
    "print(\"Processing the reviewText fields\")\n",
    "X_train[\"reviewText\"] = process_text(X_train[\"reviewText\"].tolist())\n",
    "X_val[\"reviewText\"] = process_text(X_val[\"reviewText\"].tolist())\n",
    "\n",
    "print(\"Processing the summary fields\")\n",
    "X_train[\"summary\"] = process_text(X_train[\"summary\"].tolist())\n",
    "X_val[\"summary\"] = process_text(X_val[\"summary\"].tolist())"
   ]
  },
  {
   "cell_type": "markdown",
   "metadata": {},
   "source": [
    "Our __process_text()__ method in section 3 uses empty string for missing values."
   ]
  },
  {
   "cell_type": "markdown",
   "metadata": {},
   "source": [
    "## 5. <a name=\"5\">Data processing with Pipeline and ColumnTransform</a>\n",
    "(<a href=\"#0\">Go to top</a>)\n",
    "\n",
    "In the previous examples, we have seen how to use pipeline to prepare a data field for our machine learning model. This time, we will focus on multiple fields: numeric and text fields. We are using linear regression model from Sklearn: https://scikit-learn.org/stable/modules/classes.html#module-sklearn.linear_model. \n",
    "\n",
    "   * For the numerical features pipeline, the __numerical_processor__ below, we use a MinMaxScaler (don't have to scale features when using Decision Trees, but it's a good idea to see how to use more data transforms). If different processing is desired for different numerical features, different pipelines should be built - just like shown below for the two text features.\n",
    "   * For the numerical features pipeline, the __text_processor__ below, we use CountVectorizer() for the text fields.\n",
    "   \n",
    "The selective preparations of the dataset features are then put together into a collective ColumnTransformer, to be finally used in a Pipeline along with an estimator. This ensures that the transforms are performed automatically on the raw data when fitting the model and when making predictions, such as when evaluating the model on a validation dataset via cross-validation or making predictions on a test dataset in the future."
   ]
  },
  {
   "cell_type": "code",
   "execution_count": 13,
   "metadata": {},
   "outputs": [],
   "source": [
    "# Grab model features/inputs and target/output\n",
    "numerical_features = ['time',\n",
    "                      'rating']\n",
    "\n",
    "text_features = ['summary',\n",
    "                 'reviewText']\n",
    "\n",
    "model_features = numerical_features + text_features\n",
    "model_target = 'log_votes'"
   ]
  },
  {
   "cell_type": "code",
   "execution_count": 14,
   "metadata": {},
   "outputs": [
    {
     "data": {
      "text/html": [
       "<style>div.sk-top-container {color: black;background-color: white;}div.sk-toggleable {background-color: white;}label.sk-toggleable__label {cursor: pointer;display: block;width: 100%;margin-bottom: 0;padding: 0.2em 0.3em;box-sizing: border-box;text-align: center;}div.sk-toggleable__content {max-height: 0;max-width: 0;overflow: hidden;text-align: left;background-color: #f0f8ff;}div.sk-toggleable__content pre {margin: 0.2em;color: black;border-radius: 0.25em;background-color: #f0f8ff;}input.sk-toggleable__control:checked~div.sk-toggleable__content {max-height: 200px;max-width: 100%;overflow: auto;}div.sk-estimator input.sk-toggleable__control:checked~label.sk-toggleable__label {background-color: #d4ebff;}div.sk-label input.sk-toggleable__control:checked~label.sk-toggleable__label {background-color: #d4ebff;}input.sk-hidden--visually {border: 0;clip: rect(1px 1px 1px 1px);clip: rect(1px, 1px, 1px, 1px);height: 1px;margin: -1px;overflow: hidden;padding: 0;position: absolute;width: 1px;}div.sk-estimator {font-family: monospace;background-color: #f0f8ff;margin: 0.25em 0.25em;border: 1px dotted black;border-radius: 0.25em;box-sizing: border-box;}div.sk-estimator:hover {background-color: #d4ebff;}div.sk-parallel-item::after {content: \"\";width: 100%;border-bottom: 1px solid gray;flex-grow: 1;}div.sk-label:hover label.sk-toggleable__label {background-color: #d4ebff;}div.sk-serial::before {content: \"\";position: absolute;border-left: 1px solid gray;box-sizing: border-box;top: 2em;bottom: 0;left: 50%;}div.sk-serial {display: flex;flex-direction: column;align-items: center;background-color: white;}div.sk-item {z-index: 1;}div.sk-parallel {display: flex;align-items: stretch;justify-content: center;background-color: white;}div.sk-parallel-item {display: flex;flex-direction: column;position: relative;background-color: white;}div.sk-parallel-item:first-child::after {align-self: flex-end;width: 50%;}div.sk-parallel-item:last-child::after {align-self: flex-start;width: 50%;}div.sk-parallel-item:only-child::after {width: 0;}div.sk-dashed-wrapped {border: 1px dashed gray;margin: 0.2em;box-sizing: border-box;padding-bottom: 0.1em;background-color: white;position: relative;}div.sk-label label {font-family: monospace;font-weight: bold;background-color: white;display: inline-block;line-height: 1.2em;}div.sk-label-container {position: relative;z-index: 2;text-align: center;}div.sk-container {display: inline-block;position: relative;}</style><div class=\"sk-top-container\"><div class=\"sk-container\"><div class=\"sk-item sk-dashed-wrapped\"><div class=\"sk-label-container\"><div class=\"sk-label sk-toggleable\"><input class=\"sk-toggleable__control sk-hidden--visually\" id=\"f2a7070b-0c43-4bd2-8893-ed8c1a7527dc\" type=\"checkbox\" ><label class=\"sk-toggleable__label\" for=\"f2a7070b-0c43-4bd2-8893-ed8c1a7527dc\">Pipeline</label><div class=\"sk-toggleable__content\"><pre>Pipeline(steps=[('data_preprocessing',\n",
       "                 ColumnTransformer(transformers=[('numerical_pre',\n",
       "                                                  Pipeline(steps=[('num_scaler',\n",
       "                                                                   MinMaxScaler())]),\n",
       "                                                  ['time', 'rating']),\n",
       "                                                 ('text_pre_0',\n",
       "                                                  Pipeline(steps=[('text_vect_0',\n",
       "                                                                   CountVectorizer(binary=True,\n",
       "                                                                                   max_features=50))]),\n",
       "                                                  'summary'),\n",
       "                                                 ('text_pre_1',\n",
       "                                                  Pipeline(steps=[('text_vect_1',\n",
       "                                                                   CountVectorizer(binary=True,\n",
       "                                                                                   max_features=150))]),\n",
       "                                                  'reviewText')])),\n",
       "                ('lr', LinearRegression())])</pre></div></div></div><div class=\"sk-serial\"><div class=\"sk-item sk-dashed-wrapped\"><div class=\"sk-label-container\"><div class=\"sk-label sk-toggleable\"><input class=\"sk-toggleable__control sk-hidden--visually\" id=\"7174d5aa-c149-4b45-87b7-ee1fce2c5ca5\" type=\"checkbox\" ><label class=\"sk-toggleable__label\" for=\"7174d5aa-c149-4b45-87b7-ee1fce2c5ca5\">data_preprocessing: ColumnTransformer</label><div class=\"sk-toggleable__content\"><pre>ColumnTransformer(transformers=[('numerical_pre',\n",
       "                                 Pipeline(steps=[('num_scaler',\n",
       "                                                  MinMaxScaler())]),\n",
       "                                 ['time', 'rating']),\n",
       "                                ('text_pre_0',\n",
       "                                 Pipeline(steps=[('text_vect_0',\n",
       "                                                  CountVectorizer(binary=True,\n",
       "                                                                  max_features=50))]),\n",
       "                                 'summary'),\n",
       "                                ('text_pre_1',\n",
       "                                 Pipeline(steps=[('text_vect_1',\n",
       "                                                  CountVectorizer(binary=True,\n",
       "                                                                  max_features=150))]),\n",
       "                                 'reviewText')])</pre></div></div></div><div class=\"sk-parallel\"><div class=\"sk-parallel-item\"><div class=\"sk-item\"><div class=\"sk-label-container\"><div class=\"sk-label sk-toggleable\"><input class=\"sk-toggleable__control sk-hidden--visually\" id=\"c3331d11-5ff6-4292-9d86-1f242137e002\" type=\"checkbox\" ><label class=\"sk-toggleable__label\" for=\"c3331d11-5ff6-4292-9d86-1f242137e002\">numerical_pre</label><div class=\"sk-toggleable__content\"><pre>['time', 'rating']</pre></div></div></div><div class=\"sk-serial\"><div class=\"sk-item\"><div class=\"sk-serial\"><div class=\"sk-item\"><div class=\"sk-estimator sk-toggleable\"><input class=\"sk-toggleable__control sk-hidden--visually\" id=\"b95e92ea-3d25-4da4-bd5e-a6470ffc0625\" type=\"checkbox\" ><label class=\"sk-toggleable__label\" for=\"b95e92ea-3d25-4da4-bd5e-a6470ffc0625\">MinMaxScaler</label><div class=\"sk-toggleable__content\"><pre>MinMaxScaler()</pre></div></div></div></div></div></div></div></div><div class=\"sk-parallel-item\"><div class=\"sk-item\"><div class=\"sk-label-container\"><div class=\"sk-label sk-toggleable\"><input class=\"sk-toggleable__control sk-hidden--visually\" id=\"fb801766-3d1e-40bb-b28e-08c7871c390b\" type=\"checkbox\" ><label class=\"sk-toggleable__label\" for=\"fb801766-3d1e-40bb-b28e-08c7871c390b\">text_pre_0</label><div class=\"sk-toggleable__content\"><pre>summary</pre></div></div></div><div class=\"sk-serial\"><div class=\"sk-item\"><div class=\"sk-serial\"><div class=\"sk-item\"><div class=\"sk-estimator sk-toggleable\"><input class=\"sk-toggleable__control sk-hidden--visually\" id=\"5029901b-34ce-4e40-89f2-80a70e073695\" type=\"checkbox\" ><label class=\"sk-toggleable__label\" for=\"5029901b-34ce-4e40-89f2-80a70e073695\">CountVectorizer</label><div class=\"sk-toggleable__content\"><pre>CountVectorizer(binary=True, max_features=50)</pre></div></div></div></div></div></div></div></div><div class=\"sk-parallel-item\"><div class=\"sk-item\"><div class=\"sk-label-container\"><div class=\"sk-label sk-toggleable\"><input class=\"sk-toggleable__control sk-hidden--visually\" id=\"906070e8-fa27-4481-b190-76ae6ce6483a\" type=\"checkbox\" ><label class=\"sk-toggleable__label\" for=\"906070e8-fa27-4481-b190-76ae6ce6483a\">text_pre_1</label><div class=\"sk-toggleable__content\"><pre>reviewText</pre></div></div></div><div class=\"sk-serial\"><div class=\"sk-item\"><div class=\"sk-serial\"><div class=\"sk-item\"><div class=\"sk-estimator sk-toggleable\"><input class=\"sk-toggleable__control sk-hidden--visually\" id=\"9184055d-61c3-4480-8036-f28edaf68a47\" type=\"checkbox\" ><label class=\"sk-toggleable__label\" for=\"9184055d-61c3-4480-8036-f28edaf68a47\">CountVectorizer</label><div class=\"sk-toggleable__content\"><pre>CountVectorizer(binary=True, max_features=150)</pre></div></div></div></div></div></div></div></div></div></div><div class=\"sk-item\"><div class=\"sk-estimator sk-toggleable\"><input class=\"sk-toggleable__control sk-hidden--visually\" id=\"61de3782-414b-4150-870d-c05990602e59\" type=\"checkbox\" ><label class=\"sk-toggleable__label\" for=\"61de3782-414b-4150-870d-c05990602e59\">LinearRegression</label><div class=\"sk-toggleable__content\"><pre>LinearRegression()</pre></div></div></div></div></div></div></div>"
      ],
      "text/plain": [
       "Pipeline(steps=[('data_preprocessing',\n",
       "                 ColumnTransformer(transformers=[('numerical_pre',\n",
       "                                                  Pipeline(steps=[('num_scaler',\n",
       "                                                                   MinMaxScaler())]),\n",
       "                                                  ['time', 'rating']),\n",
       "                                                 ('text_pre_0',\n",
       "                                                  Pipeline(steps=[('text_vect_0',\n",
       "                                                                   CountVectorizer(binary=True,\n",
       "                                                                                   max_features=50))]),\n",
       "                                                  'summary'),\n",
       "                                                 ('text_pre_1',\n",
       "                                                  Pipeline(steps=[('text_vect_1',\n",
       "                                                                   CountVectorizer(binary=True,\n",
       "                                                                                   max_features=150))]),\n",
       "                                                  'reviewText')])),\n",
       "                ('lr', LinearRegression())])"
      ]
     },
     "execution_count": 14,
     "metadata": {},
     "output_type": "execute_result"
    }
   ],
   "source": [
    "from sklearn.impute import SimpleImputer\n",
    "from sklearn.preprocessing import MinMaxScaler\n",
    "from sklearn.feature_extraction.text import CountVectorizer\n",
    "from sklearn.pipeline import Pipeline\n",
    "from sklearn.compose import ColumnTransformer\n",
    "from sklearn.linear_model import LinearRegression\n",
    "\n",
    "### COLUMN_TRANSFORMER ###\n",
    "##########################\n",
    "\n",
    "# Preprocess the numerical features\n",
    "numerical_processor = Pipeline([\n",
    "    ('num_scaler', MinMaxScaler())\n",
    "])\n",
    "# Preprocess 1st text feature\n",
    "text_processor_0 = Pipeline([\n",
    "    ('text_vect_0', CountVectorizer(binary=True, max_features=50))\n",
    "])\n",
    "\n",
    "# Preprocess 2nd text feature (larger vocabulary)\n",
    "text_precessor_1 = Pipeline([\n",
    "    ('text_vect_1', CountVectorizer(binary=True, max_features=150))\n",
    "])\n",
    "\n",
    "# Combine all data preprocessors from above (add more, if you choose to define more!)\n",
    "# For each processor/step specify: a name, the actual process, and finally the features to be processed\n",
    "data_preprocessor = ColumnTransformer([\n",
    "    ('numerical_pre', numerical_processor, numerical_features),\n",
    "    ('text_pre_0', text_processor_0, text_features[0]),\n",
    "    ('text_pre_1', text_precessor_1, text_features[1])\n",
    "]) \n",
    "\n",
    "### PIPELINE ###\n",
    "################\n",
    "\n",
    "# Pipeline desired all data transformers, along with an estimator at the end\n",
    "# Later you can set/reach the parameters using the names issued - for hyperparameter tuning, for example\n",
    "pipeline = Pipeline([\n",
    "    ('data_preprocessing', data_preprocessor),\n",
    "    ('lr', LinearRegression())\n",
    "])\n",
    "\n",
    "# Visualize the pipeline\n",
    "# This will come in handy especially when building more complex pipelines, stringing together multiple preprocessing steps\n",
    "from sklearn import set_config\n",
    "set_config(display='diagram')\n",
    "pipeline"
   ]
  },
  {
   "cell_type": "markdown",
   "metadata": {},
   "source": [
    "## 6. <a name=\"6\">Train the regressor</a>\n",
    "(<a href=\"#0\">Go to top</a>)\n",
    "\n",
    "We train our model by using __.fit()__ on our training dataset. "
   ]
  },
  {
   "cell_type": "code",
   "execution_count": 15,
   "metadata": {},
   "outputs": [
    {
     "data": {
      "text/html": [
       "<style>div.sk-top-container {color: black;background-color: white;}div.sk-toggleable {background-color: white;}label.sk-toggleable__label {cursor: pointer;display: block;width: 100%;margin-bottom: 0;padding: 0.2em 0.3em;box-sizing: border-box;text-align: center;}div.sk-toggleable__content {max-height: 0;max-width: 0;overflow: hidden;text-align: left;background-color: #f0f8ff;}div.sk-toggleable__content pre {margin: 0.2em;color: black;border-radius: 0.25em;background-color: #f0f8ff;}input.sk-toggleable__control:checked~div.sk-toggleable__content {max-height: 200px;max-width: 100%;overflow: auto;}div.sk-estimator input.sk-toggleable__control:checked~label.sk-toggleable__label {background-color: #d4ebff;}div.sk-label input.sk-toggleable__control:checked~label.sk-toggleable__label {background-color: #d4ebff;}input.sk-hidden--visually {border: 0;clip: rect(1px 1px 1px 1px);clip: rect(1px, 1px, 1px, 1px);height: 1px;margin: -1px;overflow: hidden;padding: 0;position: absolute;width: 1px;}div.sk-estimator {font-family: monospace;background-color: #f0f8ff;margin: 0.25em 0.25em;border: 1px dotted black;border-radius: 0.25em;box-sizing: border-box;}div.sk-estimator:hover {background-color: #d4ebff;}div.sk-parallel-item::after {content: \"\";width: 100%;border-bottom: 1px solid gray;flex-grow: 1;}div.sk-label:hover label.sk-toggleable__label {background-color: #d4ebff;}div.sk-serial::before {content: \"\";position: absolute;border-left: 1px solid gray;box-sizing: border-box;top: 2em;bottom: 0;left: 50%;}div.sk-serial {display: flex;flex-direction: column;align-items: center;background-color: white;}div.sk-item {z-index: 1;}div.sk-parallel {display: flex;align-items: stretch;justify-content: center;background-color: white;}div.sk-parallel-item {display: flex;flex-direction: column;position: relative;background-color: white;}div.sk-parallel-item:first-child::after {align-self: flex-end;width: 50%;}div.sk-parallel-item:last-child::after {align-self: flex-start;width: 50%;}div.sk-parallel-item:only-child::after {width: 0;}div.sk-dashed-wrapped {border: 1px dashed gray;margin: 0.2em;box-sizing: border-box;padding-bottom: 0.1em;background-color: white;position: relative;}div.sk-label label {font-family: monospace;font-weight: bold;background-color: white;display: inline-block;line-height: 1.2em;}div.sk-label-container {position: relative;z-index: 2;text-align: center;}div.sk-container {display: inline-block;position: relative;}</style><div class=\"sk-top-container\"><div class=\"sk-container\"><div class=\"sk-item sk-dashed-wrapped\"><div class=\"sk-label-container\"><div class=\"sk-label sk-toggleable\"><input class=\"sk-toggleable__control sk-hidden--visually\" id=\"63d00c3b-6c7b-41a3-b2b4-f11e033fd798\" type=\"checkbox\" ><label class=\"sk-toggleable__label\" for=\"63d00c3b-6c7b-41a3-b2b4-f11e033fd798\">Pipeline</label><div class=\"sk-toggleable__content\"><pre>Pipeline(steps=[('data_preprocessing',\n",
       "                 ColumnTransformer(transformers=[('numerical_pre',\n",
       "                                                  Pipeline(steps=[('num_scaler',\n",
       "                                                                   MinMaxScaler())]),\n",
       "                                                  ['time', 'rating']),\n",
       "                                                 ('text_pre_0',\n",
       "                                                  Pipeline(steps=[('text_vect_0',\n",
       "                                                                   CountVectorizer(binary=True,\n",
       "                                                                                   max_features=50))]),\n",
       "                                                  'summary'),\n",
       "                                                 ('text_pre_1',\n",
       "                                                  Pipeline(steps=[('text_vect_1',\n",
       "                                                                   CountVectorizer(binary=True,\n",
       "                                                                                   max_features=150))]),\n",
       "                                                  'reviewText')])),\n",
       "                ('lr', LinearRegression())])</pre></div></div></div><div class=\"sk-serial\"><div class=\"sk-item sk-dashed-wrapped\"><div class=\"sk-label-container\"><div class=\"sk-label sk-toggleable\"><input class=\"sk-toggleable__control sk-hidden--visually\" id=\"770ceaf8-d282-4b63-86a1-d0cacff27125\" type=\"checkbox\" ><label class=\"sk-toggleable__label\" for=\"770ceaf8-d282-4b63-86a1-d0cacff27125\">data_preprocessing: ColumnTransformer</label><div class=\"sk-toggleable__content\"><pre>ColumnTransformer(transformers=[('numerical_pre',\n",
       "                                 Pipeline(steps=[('num_scaler',\n",
       "                                                  MinMaxScaler())]),\n",
       "                                 ['time', 'rating']),\n",
       "                                ('text_pre_0',\n",
       "                                 Pipeline(steps=[('text_vect_0',\n",
       "                                                  CountVectorizer(binary=True,\n",
       "                                                                  max_features=50))]),\n",
       "                                 'summary'),\n",
       "                                ('text_pre_1',\n",
       "                                 Pipeline(steps=[('text_vect_1',\n",
       "                                                  CountVectorizer(binary=True,\n",
       "                                                                  max_features=150))]),\n",
       "                                 'reviewText')])</pre></div></div></div><div class=\"sk-parallel\"><div class=\"sk-parallel-item\"><div class=\"sk-item\"><div class=\"sk-label-container\"><div class=\"sk-label sk-toggleable\"><input class=\"sk-toggleable__control sk-hidden--visually\" id=\"ac25a50a-4e64-417b-8eb8-ab63d284f451\" type=\"checkbox\" ><label class=\"sk-toggleable__label\" for=\"ac25a50a-4e64-417b-8eb8-ab63d284f451\">numerical_pre</label><div class=\"sk-toggleable__content\"><pre>['time', 'rating']</pre></div></div></div><div class=\"sk-serial\"><div class=\"sk-item\"><div class=\"sk-serial\"><div class=\"sk-item\"><div class=\"sk-estimator sk-toggleable\"><input class=\"sk-toggleable__control sk-hidden--visually\" id=\"9f8a05a0-ee73-4479-bbcd-70de79fcba32\" type=\"checkbox\" ><label class=\"sk-toggleable__label\" for=\"9f8a05a0-ee73-4479-bbcd-70de79fcba32\">MinMaxScaler</label><div class=\"sk-toggleable__content\"><pre>MinMaxScaler()</pre></div></div></div></div></div></div></div></div><div class=\"sk-parallel-item\"><div class=\"sk-item\"><div class=\"sk-label-container\"><div class=\"sk-label sk-toggleable\"><input class=\"sk-toggleable__control sk-hidden--visually\" id=\"a0719c4d-de53-4438-af45-be5c7a556a9b\" type=\"checkbox\" ><label class=\"sk-toggleable__label\" for=\"a0719c4d-de53-4438-af45-be5c7a556a9b\">text_pre_0</label><div class=\"sk-toggleable__content\"><pre>summary</pre></div></div></div><div class=\"sk-serial\"><div class=\"sk-item\"><div class=\"sk-serial\"><div class=\"sk-item\"><div class=\"sk-estimator sk-toggleable\"><input class=\"sk-toggleable__control sk-hidden--visually\" id=\"8c5a87fc-671b-4b8b-8247-a47dbd8bdeef\" type=\"checkbox\" ><label class=\"sk-toggleable__label\" for=\"8c5a87fc-671b-4b8b-8247-a47dbd8bdeef\">CountVectorizer</label><div class=\"sk-toggleable__content\"><pre>CountVectorizer(binary=True, max_features=50)</pre></div></div></div></div></div></div></div></div><div class=\"sk-parallel-item\"><div class=\"sk-item\"><div class=\"sk-label-container\"><div class=\"sk-label sk-toggleable\"><input class=\"sk-toggleable__control sk-hidden--visually\" id=\"96582055-90a5-4dc3-b442-07d22f23b855\" type=\"checkbox\" ><label class=\"sk-toggleable__label\" for=\"96582055-90a5-4dc3-b442-07d22f23b855\">text_pre_1</label><div class=\"sk-toggleable__content\"><pre>reviewText</pre></div></div></div><div class=\"sk-serial\"><div class=\"sk-item\"><div class=\"sk-serial\"><div class=\"sk-item\"><div class=\"sk-estimator sk-toggleable\"><input class=\"sk-toggleable__control sk-hidden--visually\" id=\"474bc257-22d9-47a8-90e6-f3465a5b7e2e\" type=\"checkbox\" ><label class=\"sk-toggleable__label\" for=\"474bc257-22d9-47a8-90e6-f3465a5b7e2e\">CountVectorizer</label><div class=\"sk-toggleable__content\"><pre>CountVectorizer(binary=True, max_features=150)</pre></div></div></div></div></div></div></div></div></div></div><div class=\"sk-item\"><div class=\"sk-estimator sk-toggleable\"><input class=\"sk-toggleable__control sk-hidden--visually\" id=\"60396a32-92a0-4227-a8a9-501255764473\" type=\"checkbox\" ><label class=\"sk-toggleable__label\" for=\"60396a32-92a0-4227-a8a9-501255764473\">LinearRegression</label><div class=\"sk-toggleable__content\"><pre>LinearRegression()</pre></div></div></div></div></div></div></div>"
      ],
      "text/plain": [
       "Pipeline(steps=[('data_preprocessing',\n",
       "                 ColumnTransformer(transformers=[('numerical_pre',\n",
       "                                                  Pipeline(steps=[('num_scaler',\n",
       "                                                                   MinMaxScaler())]),\n",
       "                                                  ['time', 'rating']),\n",
       "                                                 ('text_pre_0',\n",
       "                                                  Pipeline(steps=[('text_vect_0',\n",
       "                                                                   CountVectorizer(binary=True,\n",
       "                                                                                   max_features=50))]),\n",
       "                                                  'summary'),\n",
       "                                                 ('text_pre_1',\n",
       "                                                  Pipeline(steps=[('text_vect_1',\n",
       "                                                                   CountVectorizer(binary=True,\n",
       "                                                                                   max_features=150))]),\n",
       "                                                  'reviewText')])),\n",
       "                ('lr', LinearRegression())])"
      ]
     },
     "execution_count": 15,
     "metadata": {},
     "output_type": "execute_result"
    }
   ],
   "source": [
    "# Fit the Pipeline to training data\n",
    "pipeline.fit(X_train[model_features], y_train.values)"
   ]
  },
  {
   "cell_type": "markdown",
   "metadata": {},
   "source": [
    "## 7. <a name=\"7\">Fitting Linear Regression models and checking the validation performance</a>\n",
    "(<a href=\"#0\">Go to top</a>)"
   ]
  },
  {
   "cell_type": "markdown",
   "metadata": {},
   "source": [
    "#### 7.1  LinearRegression\n",
    "Let's first fit __LinearRegression__ from Sklearn library, and check the performance on the validation dataset. Using the __coef___ atribute, we can also print the learned weights of the model.\n",
    "\n",
    "Find more details on __LinearRegression__ here:\n",
    "https://scikit-learn.org/stable/modules/generated/sklearn.linear_model.LinearRegression.html"
   ]
  },
  {
   "cell_type": "code",
   "execution_count": 16,
   "metadata": {},
   "outputs": [
    {
     "name": "stdout",
     "output_type": "stream",
     "text": [
      "LinearRegression on Validation: Mean_squared_error: 0.591019,  R_square_score: 0.356071\n",
      "LinearRegression model weights: \n",
      " [-1.74590753e+00 -4.16827781e-01  6.56223816e-02 -2.36658291e-02\n",
      "  8.60854427e-02 -9.27051260e-03  7.93510362e-02  9.70641826e-02\n",
      "  5.27824843e-02  2.09907712e-02  5.79081832e-02  2.22186919e-01\n",
      "  9.94181216e-02 -1.38870777e-02 -4.07029909e-02 -1.20768791e-04\n",
      "  4.38411166e-02  9.08966669e-02  2.16030113e-02  1.30272252e-02\n",
      " -2.24451395e-02  8.60553810e-03  2.41577355e-02 -2.32745562e-02\n",
      " -3.29517519e-02 -9.95083726e-03 -1.51489295e-01 -3.76665562e-02\n",
      "  6.48632395e-02 -1.17027209e-02  1.08722024e-02  1.58117204e-02\n",
      " -4.97168984e-02 -5.62027971e-02  5.82824695e-02 -8.74318501e-02\n",
      "  1.69220359e-02 -4.06068295e-02  2.67460249e-02  4.64255610e-02\n",
      " -9.16061962e-03  1.16367946e-01  2.62843083e-02 -2.15540618e-02\n",
      " -1.20327888e-02 -4.01607065e-02 -5.44445140e-02 -1.19694699e-01\n",
      "  1.22102019e-02  5.18642090e-02 -1.26616736e-02  8.86367186e-02\n",
      "  5.44923883e-03 -4.71229042e-02  9.00050106e-02  6.50899566e-02\n",
      "  6.41021433e-02 -4.84608771e-02  5.20386522e-02  2.77074791e-02\n",
      " -1.33810600e-02  2.49683291e-02  1.54021384e-02  4.96475247e-03\n",
      "  2.69334315e-02  4.02886509e-02  3.97863205e-02  1.09178209e-01\n",
      "  6.67143350e-02  8.43096602e-02  8.77018370e-02 -1.96350879e-02\n",
      " -4.10919903e-02  1.21087585e-01  1.03376946e-01  2.54534238e-02\n",
      "  5.49483915e-02  1.33115948e-02  7.05726775e-04  8.28894792e-03\n",
      "  1.03361264e-02  1.76561322e-02  1.57977699e-02  3.11228862e-02\n",
      "  8.70658884e-02  2.63631728e-02  6.83894370e-02  9.47153866e-03\n",
      " -5.33934923e-03 -2.52814522e-02  7.87289786e-02  4.58366451e-02\n",
      "  2.20836659e-02  1.36313644e-02 -1.69745123e-02  1.80664028e-02\n",
      "  2.27538142e-02  3.54498869e-02  1.97520763e-03 -7.11360177e-03\n",
      "  5.43880351e-03 -1.33645823e-02  1.72491912e-02  6.12309340e-02\n",
      " -5.89299495e-03  6.14405506e-02  4.64980417e-03  1.25789435e-01\n",
      "  2.07870838e-02  3.19125686e-02  1.36760551e-01  8.15744992e-04\n",
      "  2.87158432e-03 -1.89175717e-02  2.59169751e-02  1.16525089e-01\n",
      "  1.54115130e-02 -3.85681053e-02  1.77560388e-02  3.50040070e-02\n",
      "  1.10525199e-01 -2.61406843e-02  1.66500914e-02 -2.62603941e-02\n",
      "  2.31209848e-02  5.66473215e-02  5.49147228e-02  2.12764519e-02\n",
      "  7.41984805e-02  5.55085698e-02  2.92128808e-02  2.45165648e-02\n",
      "  1.24775906e-02 -3.66067220e-02  5.11069470e-02 -9.21625958e-02\n",
      "  2.57410058e-02 -1.60173361e-02  4.49723973e-02 -4.40952116e-02\n",
      " -1.02908321e-03  1.04483442e-02  4.71505306e-02  6.02206465e-02\n",
      "  3.17195830e-02  9.62401029e-03 -3.70414123e-02  6.01149274e-03\n",
      "  5.72603217e-02  5.98902478e-02  3.65337498e-02  1.29285236e-02\n",
      " -8.36609822e-02  9.63330117e-02  6.08374408e-02  1.56626357e-02\n",
      "  2.87406120e-02  1.49647267e-02  1.21126978e-01  3.56476764e-02\n",
      "  1.67580267e-02 -3.07124253e-02  1.75673573e-02  4.76511822e-02\n",
      " -3.44836923e-02 -5.18006085e-02  1.89330691e-02 -2.87657341e-02\n",
      "  9.37564605e-03  4.65579604e-02  3.53536357e-02 -3.83657353e-02\n",
      "  1.99018704e-02 -7.94566265e-02 -3.95191502e-05  4.44169105e-02\n",
      " -1.09190402e-02 -7.91522721e-03 -1.12436703e-02 -1.11473330e-01\n",
      "  1.55138878e-02  8.79247235e-03  1.80987620e-02 -2.12487262e-02\n",
      "  4.43880902e-03  3.85072791e-02  1.37763328e-02  6.08491639e-02\n",
      "  7.26582038e-03  3.63243888e-02  6.48033956e-02  5.98579120e-02\n",
      "  5.21754906e-02  4.89944459e-02  1.07182701e-02  2.94098217e-02\n",
      "  5.59692912e-02  1.21381116e-01  1.01101466e-03  4.75002962e-03\n",
      " -2.27459905e-02  1.80803282e-02]\n"
     ]
    }
   ],
   "source": [
    "from sklearn.linear_model import LinearRegression\n",
    "from sklearn.metrics import r2_score, mean_squared_error\n",
    "\n",
    "lrRegressor_val_predictions = pipeline.predict(X_val[model_features])\n",
    "print(\"LinearRegression on Validation: Mean_squared_error: %f,  R_square_score: %f\" % \\\n",
    "      (mean_squared_error(y_val, lrRegressor_val_predictions),r2_score(y_val, lrRegressor_val_predictions)))\n",
    "print(\"LinearRegression model weights: \\n\", pipeline.named_steps['lr'].coef_)"
   ]
  },
  {
   "cell_type": "markdown",
   "metadata": {},
   "source": [
    "#### 7.2  Ridge (Linear Regression with L2 regularization)\n",
    "Let's now fit __Ridge__ from Sklearn library, and check the performance on the validation dataset.\n",
    "\n",
    "Find more details on __Ridge__ here:\n",
    "https://scikit-learn.org/stable/modules/generated/sklearn.linear_model.Ridge.html\n",
    "\n",
    "To improve the performance of a LinearRegression model, __Ridge__ is tuning model complexity by adding a $L_2$ penalty score for complexity to the model cost function:\n",
    "\n",
    "$$\\text{C}_{\\text{regularized}}(\\textbf{w}) = \\text{C}(\\textbf{w}) +  {alpha}∗||\\textbf{w}||_2^2$$\n",
    "\n",
    "where $\\textbf{w}$ is the model weights vector, and $||\\textbf{w}||_2^2 = \\sum \\textbf{w}_i^2$.\n",
    "\n",
    "The strength of the regularization is controlled by the regularizer parameter, alpha: smaller value of $alpha$, weaker regularization; larger value of $alpha$, stronger regularization. \n"
   ]
  },
  {
   "cell_type": "code",
   "execution_count": 17,
   "metadata": {},
   "outputs": [
    {
     "name": "stdout",
     "output_type": "stream",
     "text": [
      "Ridge on Validation: Mean_squared_error: 0.589844,  R_square_score: 0.357352\n",
      "Ridge model weights: \n",
      " [-1.62635210e+00 -4.04848208e-01  5.76186079e-02 -2.26419500e-02\n",
      "  7.78421623e-02 -9.88967848e-03  6.09623966e-02  8.11167165e-02\n",
      "  4.38201670e-02  1.33631446e-02  4.95366609e-02  1.58831596e-01\n",
      "  3.70352089e-02 -1.39015579e-02 -4.35834419e-02 -4.22894621e-03\n",
      "  3.60617196e-02  7.39637476e-02  1.31996758e-02  4.04814517e-03\n",
      " -2.14134500e-02  1.18484237e-05  9.61147351e-03 -2.39121688e-02\n",
      " -3.26601998e-02 -9.78624635e-03 -1.23525044e-01 -6.95289794e-02\n",
      "  5.39179239e-02 -8.34073347e-03  7.69029408e-03  1.12969994e-02\n",
      " -4.81731494e-02 -5.32981627e-02  5.13307325e-02 -4.78550422e-02\n",
      "  1.85908185e-02 -4.23254662e-02 -2.57785716e-02  3.39920232e-02\n",
      " -1.15597563e-02  9.62148354e-02 -1.95906654e-02 -1.77413365e-02\n",
      " -1.37029486e-02 -3.38408127e-02 -5.07003714e-02 -8.67735820e-02\n",
      "  6.78400680e-03  4.37206521e-02 -1.66840861e-02  7.71201323e-02\n",
      "  5.07610693e-03 -4.86887355e-02  8.44192495e-02  6.31083156e-02\n",
      "  6.58646244e-02 -4.80868890e-02  4.67978854e-02  2.78263626e-02\n",
      " -1.20174443e-02  2.67784147e-02  1.71734311e-02  8.50891969e-03\n",
      "  2.65295364e-02  4.27181146e-02  3.75263268e-02  1.03989910e-01\n",
      "  6.47375642e-02  8.20990465e-02  8.52195234e-02 -1.90634822e-02\n",
      " -3.94764337e-02  1.18273670e-01  9.92235105e-02  2.59925973e-02\n",
      "  5.31722874e-02  9.46903549e-03  1.21873626e-03  1.08605873e-02\n",
      "  1.36799224e-02  1.67564909e-02  1.54543023e-02  3.26779845e-02\n",
      "  8.33424306e-02  2.55441023e-02  6.84612567e-02  9.86595658e-03\n",
      " -3.56249973e-03 -2.37645541e-02  7.94433375e-02  4.20147324e-02\n",
      "  2.39422945e-02  1.20378972e-02 -1.69706521e-03  2.00355178e-02\n",
      "  2.35807016e-02  3.51702504e-02  2.56046220e-03 -6.27059913e-03\n",
      "  6.38422850e-03 -1.05607993e-02  1.86251110e-02  6.01458315e-02\n",
      " -2.94674161e-03  5.99758493e-02  6.57565218e-03  1.21040075e-01\n",
      "  2.32675838e-02  3.31017642e-02  1.31067484e-01 -3.00375027e-03\n",
      "  6.16784268e-04 -1.68779431e-02  2.51059850e-02  1.15082475e-01\n",
      "  1.71449735e-02 -3.57375809e-02  1.76055033e-02  3.12959586e-02\n",
      "  1.09746256e-01 -2.38246161e-02  1.56398258e-02 -2.37669634e-02\n",
      "  2.29874021e-02  5.76578101e-02  5.61066240e-02  2.04974507e-02\n",
      "  7.33910634e-02  5.79200397e-02  2.90344536e-02  2.49340588e-02\n",
      "  1.16810403e-02 -3.45638500e-02  5.15458961e-02 -8.64136613e-02\n",
      "  2.75349286e-02 -1.39456663e-02  4.76156855e-02 -4.23937154e-02\n",
      " -3.20381220e-03  8.19289632e-03  4.47194269e-02  5.84784935e-02\n",
      "  3.25690521e-02  9.27383345e-03 -3.26527291e-02  9.72163987e-03\n",
      "  6.22668847e-02  6.01525095e-02  3.62682211e-02  1.22327408e-02\n",
      " -7.90815295e-02  9.35165120e-02  6.01381904e-02  1.71248048e-02\n",
      "  2.94783819e-02  1.58135672e-02  1.19514924e-01  3.66075514e-02\n",
      "  1.80081565e-02 -2.77818602e-02  1.84023263e-02  4.68110179e-02\n",
      " -3.22512006e-02 -4.54222966e-02  1.88822638e-02 -2.55173399e-02\n",
      "  1.07221871e-02  4.51094002e-02  3.95977824e-02 -3.69477393e-02\n",
      "  2.05182074e-02 -7.38908443e-02  7.63356445e-04  4.77723002e-02\n",
      " -1.19595572e-02 -2.54712344e-03 -8.76995518e-03 -1.08143396e-01\n",
      "  1.37998276e-02  1.06174503e-02  2.05105522e-02 -1.94153009e-02\n",
      "  5.68105645e-03  3.88505072e-02  1.23494827e-02  6.05250820e-02\n",
      "  8.46175519e-03  3.77583141e-02  6.44234418e-02  6.02856490e-02\n",
      "  5.18045740e-02  4.93748762e-02  1.14483721e-02  2.68536007e-02\n",
      "  5.45550659e-02  1.16442606e-01  6.70347424e-04  7.59142499e-03\n",
      " -2.12649086e-02  1.59628725e-02]\n"
     ]
    }
   ],
   "source": [
    "from sklearn.linear_model import Ridge\n",
    "from sklearn.metrics import r2_score, mean_squared_error\n",
    "\n",
    "# Let's update the pipeline with Ridge regression model\n",
    "ridge_pipeline = Pipeline([\n",
    "    ('data_preprocessing', data_preprocessor),\n",
    "    ('ridge', Ridge(alpha = 100))\n",
    "])\n",
    "\n",
    "ridge_pipeline.fit(X_train[model_features], y_train.values)\n",
    "ridgeRegressor_val_predictions = ridge_pipeline.predict(X_val[model_features])\n",
    "\n",
    "print(\"Ridge on Validation: Mean_squared_error: %f,  R_square_score: %f\" % \\\n",
    "      (mean_squared_error(y_val, ridgeRegressor_val_predictions),r2_score(y_val, ridgeRegressor_val_predictions)))\n",
    "\n",
    "print(\"Ridge model weights: \\n\", ridge_pipeline.named_steps['ridge'].coef_)"
   ]
  },
  {
   "cell_type": "markdown",
   "metadata": {},
   "source": [
    "#### 7.3 LASSO (Linear Regression with L1 regularization)\n",
    "Let's also fit __Lasso__ from Sklearn library, and check the performance on the validation dataset.\n",
    "\n",
    "Find more details on __Lasso__ here:\n",
    "https://scikit-learn.org/stable/modules/generated/sklearn.linear_model.Lasso.html\n",
    "\n",
    "__Lasso__ is tuning model complexity by adding a $L_1$ penalty score for complexity to the model cost function:\n",
    "\n",
    "$$\\text{C}_{\\text{regularized}}(\\textbf{w}) = \\text{C}(\\textbf{w}) +  alpha∗||\\textbf{w}||_1$$\n",
    "\n",
    "where $\\textbf{w}$ is the model weights vector, and $||\\textbf{w}||_1 = \\sum |\\textbf{w}_i|$. \n",
    "\n",
    "Again, the strength of the regularization is controlled by the regularizer parameter, $alpha$. Due to the geometry of $L_1$ norm, with __Lasso__, some of the weights will shrink all the way to 0, leading to sparsity - some of the features are not contributing to the model afterall!"
   ]
  },
  {
   "cell_type": "code",
   "execution_count": 18,
   "metadata": {},
   "outputs": [
    {
     "name": "stdout",
     "output_type": "stream",
     "text": [
      "Lasso on Validation: Mean_squared_error: 0.589897,  R_square_score: 0.357293\n",
      "Lasso model weights: \n",
      " [-1.72018100e+00 -3.89042880e-01  2.58389442e-02 -0.00000000e+00\n",
      "  3.82485970e-02 -0.00000000e+00  0.00000000e+00  0.00000000e+00\n",
      "  0.00000000e+00  0.00000000e+00  1.10741687e-02  1.26495462e-01\n",
      "  0.00000000e+00 -0.00000000e+00 -2.51506953e-02  0.00000000e+00\n",
      "  0.00000000e+00  0.00000000e+00  0.00000000e+00  0.00000000e+00\n",
      " -0.00000000e+00 -0.00000000e+00 -0.00000000e+00 -0.00000000e+00\n",
      " -0.00000000e+00 -0.00000000e+00 -4.64845643e-02 -5.02203748e-02\n",
      "  0.00000000e+00 -0.00000000e+00  0.00000000e+00  0.00000000e+00\n",
      " -0.00000000e+00 -0.00000000e+00  3.50588997e-02 -1.61126704e-02\n",
      "  0.00000000e+00 -7.41813800e-03 -0.00000000e+00  0.00000000e+00\n",
      " -0.00000000e+00  1.96746839e-02 -0.00000000e+00 -0.00000000e+00\n",
      "  0.00000000e+00 -0.00000000e+00 -0.00000000e+00 -0.00000000e+00\n",
      " -0.00000000e+00  0.00000000e+00 -0.00000000e+00  2.42059517e-02\n",
      "  0.00000000e+00 -1.67646076e-02  7.65653595e-02  5.11882660e-02\n",
      "  6.53230137e-02 -2.00430927e-02  4.23801055e-02  1.93869694e-02\n",
      " -0.00000000e+00  2.31914615e-02  6.72887773e-03  0.00000000e+00\n",
      "  7.78751244e-03  4.25221770e-02  2.45734917e-02  9.85939295e-02\n",
      "  5.65963223e-02  7.07105013e-02  7.41551272e-02 -6.83812079e-03\n",
      " -2.01592895e-02  1.09376261e-01  9.82148134e-02  1.92893593e-02\n",
      "  4.22152577e-02  8.84634890e-03  0.00000000e+00  1.36562398e-03\n",
      "  1.12886121e-02  8.36410035e-03  0.00000000e+00  2.08344257e-02\n",
      "  6.60430837e-02  1.12989465e-02  6.43920563e-02  0.00000000e+00\n",
      "  0.00000000e+00 -0.00000000e+00  7.76290794e-02  1.81251475e-02\n",
      "  1.33806491e-02  3.45143437e-03  0.00000000e+00  1.94068663e-02\n",
      "  1.63794660e-02  2.15068526e-02  0.00000000e+00 -0.00000000e+00\n",
      "  4.40464642e-04 -0.00000000e+00  1.13018902e-02  4.90434676e-02\n",
      "  0.00000000e+00  4.56156254e-02  0.00000000e+00  1.18512244e-01\n",
      "  0.00000000e+00  3.09604924e-02  1.22928173e-01  0.00000000e+00\n",
      "  0.00000000e+00 -0.00000000e+00  1.16403069e-02  1.20498083e-01\n",
      "  1.46868715e-02 -5.11099551e-03  0.00000000e+00  1.62199459e-02\n",
      "  1.10008147e-01 -0.00000000e+00  4.84526788e-03 -3.99021238e-03\n",
      "  7.76176538e-03  5.84370219e-02  5.66876664e-02  4.45163125e-03\n",
      "  6.32522767e-02  4.04646380e-02  1.17782282e-02  2.24486910e-02\n",
      "  1.04495306e-02 -1.31243979e-02  4.90779585e-02 -7.83116876e-02\n",
      "  2.65773489e-02 -0.00000000e+00  4.77545758e-02 -7.41728697e-03\n",
      "  0.00000000e+00  0.00000000e+00  2.69817341e-02  4.61645459e-02\n",
      "  4.91793249e-03  7.94700403e-03 -1.99252000e-02  9.79437019e-03\n",
      "  6.12522353e-02  5.67899649e-02  1.79017299e-02  0.00000000e+00\n",
      " -6.66446935e-02  8.52593306e-02  5.07924769e-02  1.37228565e-02\n",
      "  2.07185155e-02  0.00000000e+00  1.17529453e-01  2.51675567e-02\n",
      "  7.16866964e-03 -0.00000000e+00  1.43276812e-02  4.04488337e-02\n",
      " -9.42111707e-03 -6.62023748e-03  3.99465051e-03 -0.00000000e+00\n",
      "  0.00000000e+00  3.93153260e-02  4.41327019e-02 -5.56178176e-06\n",
      "  1.66126982e-02 -3.66762418e-02  0.00000000e+00  5.00670538e-02\n",
      " -0.00000000e+00  0.00000000e+00  0.00000000e+00 -9.16386846e-02\n",
      "  0.00000000e+00  4.39886735e-03  1.07650394e-02 -2.07563289e-03\n",
      "  4.23642477e-03  3.33000467e-02  2.26616142e-03  5.28305913e-02\n",
      "  4.50577149e-03  3.26375893e-02  6.23854438e-02  5.61024315e-02\n",
      "  5.45675568e-02  4.96510418e-02  7.42154981e-03  2.93037505e-02\n",
      "  4.54365983e-02  1.06932694e-01 -0.00000000e+00  0.00000000e+00\n",
      " -5.03406077e-03  1.42087809e-02]\n"
     ]
    }
   ],
   "source": [
    "from sklearn.linear_model import Lasso\n",
    "from sklearn.metrics import r2_score, mean_squared_error\n",
    "\n",
    "# Let's update the pipeline with Lasso regression model\n",
    "lasso_pipeline = Pipeline([\n",
    "    ('data_preprocessing', data_preprocessor),\n",
    "    ('lasso', Lasso(alpha = 0.001))\n",
    "])\n",
    "\n",
    "lasso_pipeline.fit(X_train[model_features], y_train.values)\n",
    "lassoRegressor_val_predictions = lasso_pipeline.predict(X_val[model_features])\n",
    "\n",
    "print(\"Lasso on Validation: Mean_squared_error: %f,  R_square_score: %f\" % \\\n",
    "      (mean_squared_error(y_val, lassoRegressor_val_predictions),r2_score(y_val, lassoRegressor_val_predictions)))\n",
    "\n",
    "print(\"Lasso model weights: \\n\", lasso_pipeline.named_steps['lasso'].coef_)"
   ]
  },
  {
   "cell_type": "markdown",
   "metadata": {},
   "source": [
    "#### 7.4 ElasticNet (Linear Regression with L2 and L1 regularization)\n",
    "Let's finally try __ElasticNet__ from Sklearn library, and check the performance on the validation dataset.\n",
    "\n",
    "Find more details on __ElasticNet__ here:\n",
    "https://scikit-learn.org/stable/modules/generated/sklearn.linear_model.ElasticNet.html\n",
    "\n",
    "__ElasticNet__ is tuning model complexity by adding both $L_2$ and $L_1$ penalty scores for complexity to the model's cost function:\n",
    "\n",
    "$$\\text{C}_{\\text{regularized}}(\\textbf{w}) = \\text{C}(\\textbf{w}) +  0.5*alpha∗(1-\\textit{l1}_{ratio})||\\textbf{w}||_2^2 + alpha∗\\textit{l1}_{ratio}∗||\\textbf{w}||_1$$\n",
    "\n",
    "and using two parameters, $alpha$ and $\\textit{l1}_{ratio}$, to control the strength of the regularization."
   ]
  },
  {
   "cell_type": "code",
   "execution_count": 19,
   "metadata": {},
   "outputs": [
    {
     "name": "stdout",
     "output_type": "stream",
     "text": [
      "ElasticNet on Validation: Mean_squared_error: 0.589985,  R_square_score: 0.357198\n",
      "ElasticNet model weights: \n",
      " [-1.68718222e+00 -4.07740028e-01  5.81308220e-02 -1.75564911e-02\n",
      "  7.70591086e-02 -2.02403237e-03  6.08587250e-02  7.94764703e-02\n",
      "  3.99381579e-02  1.26925348e-02  4.95580421e-02  1.81298075e-01\n",
      "  5.73046718e-02 -7.59518266e-03 -4.03917952e-02 -4.27928483e-04\n",
      "  3.30656546e-02  7.27641740e-02  1.02780896e-02  1.83194721e-03\n",
      " -1.69492775e-02  0.00000000e+00  5.33213698e-03 -1.74826824e-02\n",
      " -2.70392602e-02 -7.14594014e-03 -1.27054861e-01 -5.45432203e-02\n",
      "  5.14365668e-02 -8.54135047e-04  7.64116064e-03  9.84371469e-03\n",
      " -4.33614666e-02 -4.76031350e-02  5.30067486e-02 -6.00945802e-02\n",
      "  1.05994151e-02 -4.03642004e-02 -0.00000000e+00  3.00438757e-02\n",
      " -2.45581424e-03  9.73759228e-02 -0.00000000e+00 -1.09435272e-02\n",
      " -8.14249497e-03 -2.81622915e-02 -4.78513573e-02 -8.48689257e-02\n",
      "  0.00000000e+00  4.10798809e-02 -1.24165904e-02  7.47455651e-02\n",
      "  4.32150583e-03 -4.46213628e-02  8.62062915e-02  6.26786956e-02\n",
      "  6.46114649e-02 -4.54764955e-02  4.85598274e-02  2.68093754e-02\n",
      " -1.01570619e-02  2.56021717e-02  1.51663823e-02  5.94041463e-03\n",
      "  2.45480237e-02  4.18246897e-02  3.74686609e-02  1.05472429e-01\n",
      "  6.45164940e-02  8.18754874e-02  8.51752146e-02 -1.89034512e-02\n",
      " -3.84158271e-02  1.18436974e-01  1.01527983e-01  2.49424388e-02\n",
      "  5.26033182e-02  1.14975450e-02  1.00327028e-03  8.84676177e-03\n",
      "  1.19283478e-02  1.64468915e-02  1.35620886e-02  3.11406658e-02\n",
      "  8.32365402e-02  2.44624379e-02  6.80773461e-02  8.39500918e-03\n",
      " -1.90195979e-03 -2.18590279e-02  7.89119572e-02  4.10106474e-02\n",
      "  2.18456594e-02  1.17112462e-02 -5.29552544e-03  1.86705985e-02\n",
      "  2.23869564e-02  3.36345639e-02  1.74303075e-03 -4.63811837e-03\n",
      "  5.00839791e-03 -8.78337321e-03  1.70795565e-02  5.93046000e-02\n",
      " -8.48905397e-04  5.91645076e-02  4.05893033e-03  1.22750228e-01\n",
      "  1.93785307e-02  3.24808564e-02  1.32615018e-01 -0.00000000e+00\n",
      "  1.44828576e-04 -1.51735171e-02  2.39151257e-02  1.16608940e-01\n",
      "  1.61912265e-02 -3.38848404e-02  1.46889703e-02  3.13965949e-02\n",
      "  1.10038736e-01 -2.28160894e-02  1.52874788e-02 -2.34408834e-02\n",
      "  2.14640553e-02  5.73415490e-02  5.56458824e-02  1.90501101e-02\n",
      "  7.28159966e-02  5.61089981e-02  2.72053415e-02  2.44563075e-02\n",
      "  1.15297077e-02 -3.36349671e-02  5.10353529e-02 -8.91911914e-02\n",
      "  2.64926651e-02 -1.26419402e-02  4.63327049e-02 -3.95291550e-02\n",
      " -0.00000000e+00  7.91212581e-03  4.44157110e-02  5.78495055e-02\n",
      "  2.83747664e-02  9.41594183e-03 -3.36616680e-02  8.70941739e-03\n",
      "  5.98980467e-02  5.95484178e-02  3.43194197e-02  1.12789817e-02\n",
      " -7.98742782e-02  9.35161687e-02  5.94376285e-02  1.60042858e-02\n",
      "  2.80644749e-02  1.35503444e-02  1.19835470e-01  3.47857062e-02\n",
      "  1.60876235e-02 -2.64229148e-02  1.74962081e-02  4.61619856e-02\n",
      " -3.12931324e-02 -4.43827009e-02  1.72241729e-02 -2.36893982e-02\n",
      "  8.08254209e-03  4.48279347e-02  3.85110183e-02 -3.39756339e-02\n",
      "  1.98208726e-02 -7.26824126e-02  0.00000000e+00  4.73785314e-02\n",
      " -7.61728613e-03 -2.08606239e-03 -7.29497041e-03 -1.07608251e-01\n",
      "  1.24314772e-02  9.14050106e-03  1.84822395e-02 -1.86742659e-02\n",
      "  5.02065641e-03  3.82664158e-02  1.19715585e-02  5.93079714e-02\n",
      "  7.25037239e-03  3.63022099e-02  6.45172456e-02  5.96619585e-02\n",
      "  5.22890640e-02  4.89933494e-02  1.11756402e-02  2.80313623e-02\n",
      "  5.40970758e-02  1.17623097e-01  0.00000000e+00  3.84444344e-03\n",
      " -2.02913298e-02  1.65486819e-02]\n"
     ]
    }
   ],
   "source": [
    "from sklearn.linear_model import ElasticNet\n",
    "from sklearn.metrics import r2_score, mean_squared_error\n",
    "\n",
    "# Let's update the pipeline with ElasticNet regression model\n",
    "elastic_net_pipeline = Pipeline([\n",
    "    ('data_preprocessing', data_preprocessor),\n",
    "    ('elastic_net', ElasticNet(alpha = 0.001, l1_ratio = 0.1))\n",
    "])\n",
    "\n",
    "elastic_net_pipeline.fit(X_train[model_features], y_train.values)\n",
    "enRegressor_val_predictions = elastic_net_pipeline.predict(X_val[model_features])\n",
    "\n",
    "print(\"ElasticNet on Validation: Mean_squared_error: %f,  R_square_score: %f\" % \\\n",
    "      (mean_squared_error(y_val, enRegressor_val_predictions),r2_score(y_val, enRegressor_val_predictions)))\n",
    "\n",
    "print(\"ElasticNet model weights: \\n\", elastic_net_pipeline.named_steps['elastic_net'].coef_)"
   ]
  },
  {
   "cell_type": "markdown",
   "metadata": {},
   "source": [
    "#### 7.5 Weights shrinkage and sparsity\n",
    "\n",
    "Let's compare weights ranges for all these regression models:"
   ]
  },
  {
   "cell_type": "code",
   "execution_count": 20,
   "metadata": {},
   "outputs": [
    {
     "name": "stdout",
     "output_type": "stream",
     "text": [
      "LinearRegression weights range: \n",
      " 3.9519150249327546e-05 1.7459075251306901\n",
      "Ridge weights range: \n",
      " 1.184842373648761e-05 1.6263521023373955\n",
      "Lasso weights range: \n",
      " 0.0 1.720181000769515\n",
      "ElasticNet weights range: \n",
      " 0.0 1.687182215447088\n"
     ]
    }
   ],
   "source": [
    "import numpy as np\n",
    "\n",
    "lin_regression_coeffs = pipeline.named_steps['lr'].coef_\n",
    "ridge_regression_coeffs = ridge_pipeline.named_steps['ridge'].coef_\n",
    "lasso_regression_coeffs = lasso_pipeline.named_steps['lasso'].coef_\n",
    "enet_regression_coeffs = elastic_net_pipeline.named_steps['elastic_net'].coef_\n",
    "\n",
    "print('LinearRegression weights range: \\n', np.abs(lin_regression_coeffs).min(), np.abs(lin_regression_coeffs).max())\n",
    "print('Ridge weights range: \\n', np.abs(ridge_regression_coeffs).min(), np.abs(ridge_regression_coeffs).max())\n",
    "print('Lasso weights range: \\n', np.abs(lasso_regression_coeffs).min(), np.abs(lasso_regression_coeffs).max())\n",
    "print('ElasticNet weights range: \\n', np.abs(enet_regression_coeffs).min(), np.abs(enet_regression_coeffs).max())"
   ]
  },
  {
   "cell_type": "markdown",
   "metadata": {},
   "source": [
    "The weights of all regularized models are lowered compared to __LinearRegression__, with some of the weights of __Lasso__ and __ElasticNet__ shrinked all the way to 0. Using sparsity, the __Lasso__ regularization reduces the number of features, performing feature selection."
   ]
  },
  {
   "cell_type": "markdown",
   "metadata": {},
   "source": [
    "## 8. <a name=\"7\">Ideas for improvement</a>\n",
    "(<a href=\"#0\">Go to top</a>)\n",
    "\n",
    "One way to improve the performance of a linear regression model is to try different strenghts of regularization, here controlled by the parameters $alpha$ and $\\textit{l1}_{ratio}$."
   ]
  }
 ],
 "metadata": {
  "kernelspec": {
   "display_name": "conda_python3",
   "language": "python",
   "name": "conda_python3"
  },
  "language_info": {
   "codemirror_mode": {
    "name": "ipython",
    "version": 3
   },
   "file_extension": ".py",
   "mimetype": "text/x-python",
   "name": "python",
   "nbconvert_exporter": "python",
   "pygments_lexer": "ipython3",
   "version": "3.6.10"
  }
 },
 "nbformat": 4,
 "nbformat_minor": 2
}
